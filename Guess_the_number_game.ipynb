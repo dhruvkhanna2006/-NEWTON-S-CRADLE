{
  "nbformat": 4,
  "nbformat_minor": 0,
  "metadata": {
    "colab": {
      "name": "Guess the number game.ipynb",
      "provenance": [],
      "authorship_tag": "ABX9TyPFL7rrLeuWiWboDGEdlbF2",
      "include_colab_link": true
    },
    "kernelspec": {
      "display_name": "Python 3",
      "name": "python3"
    },
    "language_info": {
      "name": "python"
    }
  },
  "cells": [
    {
      "cell_type": "markdown",
      "metadata": {
        "id": "view-in-github",
        "colab_type": "text"
      },
      "source": [
        "<a href=\"https://colab.research.google.com/github/dhruvkhanna2006/-NEWTON-S-CRADLE/blob/main/Guess_the_number_game.ipynb\" target=\"_parent\"><img src=\"https://colab.research.google.com/assets/colab-badge.svg\" alt=\"Open In Colab\"/></a>"
      ]
    },
    {
      "cell_type": "code",
      "metadata": {
        "colab": {
          "background_save": true,
          "base_uri": "https://localhost:8080/"
        },
        "id": "BOZhgCShaotC",
        "outputId": "cfbe3303-5aa1-41f9-a5d6-34a487c51d13"
      },
      "source": [
        "import random\n",
        "\n",
        "print(\"Number guessing game\")\n",
        "\n",
        "# randint function to generate the random number between 1 to 9\n",
        "number = random.randint(1, 9)\n",
        "\n",
        "# number of chances to be given to the user to guess the number\n",
        "# or it is the inputs given by user into input box here number of chances are 5\n",
        "chances = 0\n",
        "\n",
        "print(\"Guess a number (between 1 and 9):\")\n",
        "\n",
        "\n",
        "# While loop to count the number of chances\n",
        "while chances < 5:\n",
        "\n",
        "    # Enter a number between 1 to 9\n",
        "    guess = int(input(\"Enter your guess:- \"))\n",
        "\n",
        "    # Compare the user entered number with the number to be guessed\n",
        "\n",
        "    if guess == number:\n",
        "        # if number entered by user is same as the generated\n",
        "        # number by randint function then break from loop using loop\n",
        "        # control statement \"break\"\n",
        "        print(\"Congratulation YOU WON!!!\")\n",
        "        break\n",
        "\n",
        "    # Check if the user entered number is smaller than the generated number\n",
        "    elif guess < number:\n",
        "        print(\"Your guess was too low: Guess a number higher than\", guess)\n",
        "\n",
        "    # The user entered number is greater than the generated number\n",
        "    else:\n",
        "        print(\"Your guess was too high: Guess a number lower than\", guess)\n",
        "\n",
        "    # Increase the value of chance by 1\n",
        "    chances += 1\n",
        "\n",
        "\n",
        "# Check whether the user guessed the correct number\n",
        "if not chances < 5:\n",
        "    print(\"YOU LOSE!!! The number is\", number)"
      ],
      "execution_count": null,
      "outputs": [
        {
          "name": "stdout",
          "output_type": "stream",
          "text": [
            "Number guessing game\n",
            "Guess a number (between 1 and 9):\n",
            "Your guess was too low: Guess a number higher than 2\n"
          ]
        }
      ]
    }
  ]
}